{
 "cells": [
  {
   "cell_type": "code",
   "execution_count": null,
   "metadata": {},
   "outputs": [],
   "source": [
    "from urllib.request import urlopen\n",
    "import json\n",
    "import datetime\n",
    "from time import sleep\n",
    "from pprint import pprint"
   ]
  },
  {
   "cell_type": "code",
   "execution_count": null,
   "metadata": {},
   "outputs": [],
   "source": [
    "while True:\n",
    "    now = str(datetime.datetime.now())\n",
    "    date = now.split(' ')[0].replace('-', '')\n",
    "    hour_pre = int(now.split(' ')[1][:2])-1\n",
    "    \n",
    "    url = \"http://apis.data.go.kr/1360000/VilageFcstInfoService_2.0/getUltraSrtFcst\" +\\\n",
    "        \"?serviceKey=\"+\\\n",
    "        \"&numOfRows=60&pageNo=1\"+\\\n",
    "        \"&base_date={}&base_time={:02d}30&nx=61&ny=125&dataType=JSON\".format(date, hour_pre)\n",
    "    answer = urlopen(url, timeout=20).read()\n",
    "    data = json.loads(answer)\n",
    "    rain = dict()\n",
    "    for item in data[\"response\"][\"body\"][\"items\"][\"item\"]:\n",
    "        if item[\"category\"] == \"RN1\":\n",
    "            rain[item[\"fcstTime\"]] = item[\"fcstValue\"]\n",
    "    pprint(rain)\n",
    "    sleep(3600)\n",
    "# TODO:\n",
    "# serviceKey는 data.go.kr에서 확인\n",
    "# base_date는 현재 시각 기준 3일까지만 제공됨에 유의(오늘이 8월 10일이면 8월 8, 9, 10일)\n",
    "# base_time은 30분에 리뉴얼돼서 0030~2330으로"
   ]
  }
 ],
 "metadata": {
  "kernelspec": {
   "display_name": "Python 3",
   "language": "python",
   "name": "python3"
  },
  "language_info": {
   "codemirror_mode": {
    "name": "ipython",
    "version": 3
   },
   "file_extension": ".py",
   "mimetype": "text/x-python",
   "name": "python",
   "nbconvert_exporter": "python",
   "pygments_lexer": "ipython3",
   "version": "3.6.4"
  }
 },
 "nbformat": 4,
 "nbformat_minor": 2
}
