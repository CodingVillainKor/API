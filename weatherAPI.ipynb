{
 "cells": [
  {
   "cell_type": "code",
   "execution_count": 1,
   "metadata": {},
   "outputs": [],
   "source": [
    "from urllib.request import urlopen\n",
    "import json"
   ]
  },
  {
   "cell_type": "code",
   "execution_count": 2,
   "metadata": {},
   "outputs": [],
   "source": [
    "url = \"http://apis.data.go.kr/1360000/VilageFcstInfoService_2.0/getUltraSrtFcst\" + \\\n",
    "    \"?serviceKey=\" + \\\n",
    "    \"&numOfRows=60&pageNo=1\" + \\\n",
    "    \"&base_date=20200000&base_time=0030&nx=61&ny=125&dataType=JSON\"\n",
    "# TODO:\n",
    "# serviceKey는 data.go.kr에서 확인\n",
    "# base_date는 현재 시각 기준 3일까지만 제공됨에 유의(오늘이 8월 10일이면 8월 8, 9, 10일)\n",
    "# base_time은 30분에 리뉴얼돼서 0030~2330으로"
   ]
  },
  {
   "cell_type": "code",
   "execution_count": 3,
   "metadata": {
    "scrolled": false
   },
   "outputs": [
    {
     "name": "stdout",
     "output_type": "stream",
     "text": [
      "1100시에 예상 강수량 강수없음\n",
      "1200시에 예상 강수량 강수없음\n",
      "1300시에 예상 강수량 1.0mm\n",
      "1400시에 예상 강수량 강수없음\n",
      "1500시에 예상 강수량 강수없음\n",
      "1600시에 예상 강수량 강수없음\n"
     ]
    }
   ],
   "source": [
    "answer = urlopen(url).read()\n",
    "data = json.loads(answer)\n",
    "rain = dict()\n",
    "for item in data[\"response\"][\"body\"][\"items\"][\"item\"]:\n",
    "    if item[\"category\"] == \"RN1\":\n",
    "        rain[item[\"fcstTime\"]] = item[\"fcstValue\"]\n",
    "for k, v in rain.items():\n",
    "    print(\"{}시에 예상 강수량 {}\".format(k, v))"
   ]
  }
 ],
 "metadata": {
  "kernelspec": {
   "display_name": "Python 3",
   "language": "python",
   "name": "python3"
  },
  "language_info": {
   "codemirror_mode": {
    "name": "ipython",
    "version": 3
   },
   "file_extension": ".py",
   "mimetype": "text/x-python",
   "name": "python",
   "nbconvert_exporter": "python",
   "pygments_lexer": "ipython3",
   "version": "3.6.4"
  }
 },
 "nbformat": 4,
 "nbformat_minor": 2
}
